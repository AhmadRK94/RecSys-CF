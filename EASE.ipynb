{
 "cells": [
  {
   "cell_type": "markdown",
   "id": "a5314efe",
   "metadata": {},
   "source": [
    "### Import packages"
   ]
  },
  {
   "cell_type": "code",
   "execution_count": 1,
   "id": "0ebe6ad8",
   "metadata": {},
   "outputs": [],
   "source": [
    "import pandas as pd\n",
    "import numpy as np\n",
    "from scipy.sparse import load_npz\n",
    "from scipy import sparse"
   ]
  },
  {
   "cell_type": "markdown",
   "id": "50e88a5f",
   "metadata": {},
   "source": [
    "### Read data"
   ]
  },
  {
   "cell_type": "code",
   "execution_count": 2,
   "id": "6f44610e",
   "metadata": {},
   "outputs": [],
   "source": [
    "df_val = pd.read_csv('df_val.csv')"
   ]
  },
  {
   "cell_type": "code",
   "execution_count": 3,
   "id": "1def2465",
   "metadata": {},
   "outputs": [],
   "source": [
    "R = load_npz('R_train.npz')"
   ]
  },
  {
   "cell_type": "code",
   "execution_count": 4,
   "id": "e77b6f1a",
   "metadata": {},
   "outputs": [],
   "source": [
    "n_users,n_movies = R.shape"
   ]
  },
  {
   "cell_type": "markdown",
   "id": "ccba2486",
   "metadata": {},
   "source": [
    "### Construct accuracy function"
   ]
  },
  {
   "cell_type": "code",
   "execution_count": 5,
   "id": "5037976d",
   "metadata": {},
   "outputs": [],
   "source": [
    "one_idxs=[]\n",
    "minus_one_idxs=[]\n",
    "hold_out=[]\n",
    "hold_out_minus=[]"
   ]
  },
  {
   "cell_type": "code",
   "execution_count": 6,
   "id": "3d7cf3bd",
   "metadata": {},
   "outputs": [],
   "source": [
    "for i in range(n_users):\n",
    "    one_idxs.append(np.where(R[[i],:].toarray()[0] == 1)[0])\n",
    "    minus_one_idxs.append(np.where(R[[i],:].toarray()[0] == -1)[0])\n",
    "    hold_out.append(df_val.query(f\"userId=={i} & rating==1\").movieId.values)\n",
    "    hold_out_minus.append(df_val.query(f\"userId=={i} & rating==-1\").movieId.values)"
   ]
  },
  {
   "cell_type": "code",
   "execution_count": 7,
   "id": "09066cc9",
   "metadata": {},
   "outputs": [],
   "source": [
    "def accuracy_func(S,k=10):\n",
    "    accuracy = []\n",
    "    for i in range(n_users):\n",
    "        output = S[i]\n",
    "#         output = output.to('cpu').detach().numpy()[0]\n",
    "        np.put(output,one_idxs[i],-np.inf)\n",
    "        np.put(output,minus_one_idxs[i],-np.inf)\n",
    "        c = len(np.intersect1d(np.argsort(output)[::-1][:k],hold_out[i]))\n",
    "        nc = len(np.intersect1d(np.argsort(output)[::-1][:k],hold_out_minus[i]))\n",
    "#         acc = np.max([0,(c-nc)/(np.min([k,len(hold_out[i])+1]))]) ## Recal@K\n",
    "        acc = np.max([0,(c-nc)/k]) ## HR@K\n",
    "        accuracy.append(acc)\n",
    "    return np.mean(accuracy)"
   ]
  },
  {
   "cell_type": "markdown",
   "id": "d4aae679",
   "metadata": {},
   "source": [
    "### EASE model"
   ]
  },
  {
   "cell_type": "code",
   "execution_count": 8,
   "id": "ae6b5177",
   "metadata": {},
   "outputs": [],
   "source": [
    "def EASE(x,l2=1500):\n",
    "    G = np.matmul(x.T,x)\n",
    "    diag_indices = np.diag_indices(G.shape[0])\n",
    "    G[diag_indices] += l2\n",
    "    p = np.linalg.inv(G)\n",
    "    B = p/(-np.diag(p))\n",
    "    B[diag_indices] = 0\n",
    "    S = np.matmul(x,B)\n",
    "    return S"
   ]
  },
  {
   "cell_type": "markdown",
   "id": "aeb1bdde",
   "metadata": {},
   "source": [
    "### Training and accuracy"
   ]
  },
  {
   "cell_type": "code",
   "execution_count": 9,
   "id": "1dc4ab5d",
   "metadata": {},
   "outputs": [],
   "source": [
    "x = np.float32(R.toarray())"
   ]
  },
  {
   "cell_type": "code",
   "execution_count": 10,
   "id": "8ceabc66",
   "metadata": {},
   "outputs": [],
   "source": [
    "S = EASE(x)"
   ]
  },
  {
   "cell_type": "code",
   "execution_count": 11,
   "id": "03381be0",
   "metadata": {},
   "outputs": [
    {
     "data": {
      "text/plain": [
       "0.33200331125827814"
      ]
     },
     "execution_count": 11,
     "metadata": {},
     "output_type": "execute_result"
    }
   ],
   "source": [
    "accuracy_func(S)"
   ]
  }
 ],
 "metadata": {
  "kernelspec": {
   "display_name": "Python 3 (ipykernel)",
   "language": "python",
   "name": "python3"
  },
  "language_info": {
   "codemirror_mode": {
    "name": "ipython",
    "version": 3
   },
   "file_extension": ".py",
   "mimetype": "text/x-python",
   "name": "python",
   "nbconvert_exporter": "python",
   "pygments_lexer": "ipython3",
   "version": "3.9.13"
  }
 },
 "nbformat": 4,
 "nbformat_minor": 5
}
