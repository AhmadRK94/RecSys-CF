{
 "cells": [
  {
   "cell_type": "markdown",
   "id": "91bfbed2",
   "metadata": {},
   "source": [
    "## Denoising AutoEncoder"
   ]
  },
  {
   "cell_type": "markdown",
   "id": "b085b956",
   "metadata": {},
   "source": [
    "### Import Packages"
   ]
  },
  {
   "cell_type": "code",
   "execution_count": 1,
   "id": "1e9eabdd",
   "metadata": {},
   "outputs": [],
   "source": [
    "import pandas as pd\n",
    "import numpy as np\n",
    "from scipy.sparse import load_npz\n",
    "from scipy import sparse\n",
    "from tqdm import tqdm\n",
    "from torch import nn\n",
    "import torch.optim as optim\n",
    "from torch.utils.data import Dataset,DataLoader \n",
    "import torch\n",
    "import torch.nn.functional as F"
   ]
  },
  {
   "cell_type": "markdown",
   "id": "e3f1597e",
   "metadata": {},
   "source": [
    "### Loading data"
   ]
  },
  {
   "cell_type": "code",
   "execution_count": 2,
   "id": "286e59ad",
   "metadata": {},
   "outputs": [],
   "source": [
    "df_val = pd.read_csv('df_val.csv')"
   ]
  },
  {
   "cell_type": "code",
   "execution_count": 3,
   "id": "97e29861",
   "metadata": {},
   "outputs": [],
   "source": [
    "R = load_npz('R_train.npz')"
   ]
  },
  {
   "cell_type": "code",
   "execution_count": 4,
   "id": "6e7563ca",
   "metadata": {},
   "outputs": [],
   "source": [
    "n_users,n_movies = R.shape"
   ]
  },
  {
   "cell_type": "markdown",
   "id": "afe10852",
   "metadata": {},
   "source": [
    "### Prepare data for PyTorch model"
   ]
  },
  {
   "cell_type": "code",
   "execution_count": 5,
   "id": "59057060",
   "metadata": {},
   "outputs": [],
   "source": [
    "class MovieDatasetUsers(Dataset):\n",
    "    def __init__(self,utility_matrix):\n",
    "        self.utility  = utility_matrix\n",
    "        \n",
    "    def __len__(self):\n",
    "        return self.utility.shape[0]\n",
    "    def __getitem__(self,idx):\n",
    "        \n",
    "        user_vector = self.utility[[idx],:].toarray()[0]\n",
    "        user_vector = torch.tensor(user_vector,dtype=torch.float32)\n",
    "        \n",
    "        return user_vector"
   ]
  },
  {
   "cell_type": "code",
   "execution_count": 6,
   "id": "71e02997",
   "metadata": {},
   "outputs": [],
   "source": [
    "train_dataset = MovieDatasetUsers(R)"
   ]
  },
  {
   "cell_type": "code",
   "execution_count": 7,
   "id": "d62435b1",
   "metadata": {},
   "outputs": [],
   "source": [
    "BATCH_SIZE = 128\n",
    "train_loader = DataLoader(dataset=train_dataset,\n",
    "                         batch_size=BATCH_SIZE,\n",
    "                         shuffle=True,\n",
    "                         )"
   ]
  },
  {
   "cell_type": "markdown",
   "id": "52875f3c",
   "metadata": {},
   "source": [
    "### Construct accuracy function"
   ]
  },
  {
   "cell_type": "code",
   "execution_count": 8,
   "id": "20f47c6f",
   "metadata": {},
   "outputs": [],
   "source": [
    "one_idxs=[]\n",
    "minus_one_idxs=[]\n",
    "hold_out=[]\n",
    "hold_out_minus=[]"
   ]
  },
  {
   "cell_type": "code",
   "execution_count": 9,
   "id": "f0c38cfe",
   "metadata": {},
   "outputs": [],
   "source": [
    "for i in range(n_users):\n",
    "    one_idxs.append(np.where(R[[i],:].toarray()[0] == 1)[0])\n",
    "    minus_one_idxs.append(np.where(R[[i],:].toarray()[0] == -1)[0])\n",
    "    hold_out.append(df_val.query(f\"userId=={i} & rating==1\").movieId.values)\n",
    "    hold_out_minus.append(df_val.query(f\"userId=={i} & rating==-1\").movieId.values)"
   ]
  },
  {
   "cell_type": "code",
   "execution_count": 10,
   "id": "eb7d0347",
   "metadata": {},
   "outputs": [],
   "source": [
    "def accuracy_func(model,k=10):\n",
    "    accuracy = []\n",
    "    for i in range(n_users):\n",
    "        output = model(torch.unsqueeze(train_dataset[i].to(torch.float32).to(device),dim=0))\n",
    "        output = output.to('cpu').detach().numpy()[0]\n",
    "        np.put(output,one_idxs[i],-np.inf)\n",
    "        np.put(output,minus_one_idxs[i],-np.inf)\n",
    "        c = len(np.intersect1d(np.argsort(output)[::-1][:k],hold_out[i]))\n",
    "        nc = len(np.intersect1d(np.argsort(output)[::-1][:k],hold_out_minus[i]))\n",
    "#         acc = np.max([0,(c-nc)/(np.min([k,len(hold_out[i])+1]))]) ## Recal@K\n",
    "        acc = np.max([0,(c-nc)/k]) ## HR@K\n",
    "        accuracy.append(acc)\n",
    "    return np.mean(accuracy)"
   ]
  },
  {
   "cell_type": "markdown",
   "id": "88d83965",
   "metadata": {},
   "source": [
    "### DAE model"
   ]
  },
  {
   "cell_type": "code",
   "execution_count": 11,
   "id": "8bec7443",
   "metadata": {},
   "outputs": [],
   "source": [
    "class Encoder(nn.Module):\n",
    "    def __init__(self, input_dim, hidden_dim, latent_dim,dropout_rate=0.5):\n",
    "        super().__init__()\n",
    "        \n",
    "        self.fc1 = nn.Linear(input_dim,hidden_dim)\n",
    "        self.fc_out = nn.Linear(hidden_dim,latent_dim)\n",
    "        self.activation = nn.Tanh()\n",
    "        self.dropout = nn.Dropout(p=dropout_rate)\n",
    "        \n",
    "    def forward(self,x):\n",
    "        x = F.normalize(x)\n",
    "        x = self.dropout(x)\n",
    "        \n",
    "        h1 = self.activation(self.fc1(x))\n",
    "        z = self.activation(self.fc_out(h1))\n",
    "        \n",
    "        return z"
   ]
  },
  {
   "cell_type": "code",
   "execution_count": 12,
   "id": "ac0b32b8",
   "metadata": {},
   "outputs": [],
   "source": [
    "class Decoder(nn.Module):\n",
    "    def __init__(self, input_dim, hidden_dim, latent_dim):\n",
    "        super().__init__()\n",
    "        \n",
    "        self.fc1 = nn.Linear(latent_dim,hidden_dim)\n",
    "        \n",
    "        self.fc_out = nn.Linear(hidden_dim,input_dim)\n",
    "        self.activation = nn.Tanh()\n",
    "        self.tanh = nn.Tanh()\n",
    "        \n",
    "    def forward(self,z):\n",
    "        \n",
    "        \n",
    "        h1 = self.activation(self.fc1(z))\n",
    "        \n",
    "        x_rec = self.fc_out(h1)\n",
    "        \n",
    "        return x_rec"
   ]
  },
  {
   "cell_type": "code",
   "execution_count": 13,
   "id": "f308e601",
   "metadata": {},
   "outputs": [],
   "source": [
    "class DAE(nn.Module):\n",
    "    def __init__(self, input_dim, hidden_dim, latent_dim):\n",
    "        super().__init__()\n",
    "        \n",
    "        self.encoder = Encoder(input_dim, hidden_dim, latent_dim,dropout_rate=0.5)\n",
    "        self.decoder = Decoder(input_dim, hidden_dim, latent_dim)\n",
    "        self.dropout = nn.Dropout(0.5)\n",
    "        \n",
    "    def forward(self,x):\n",
    "        z = self.encoder(x)\n",
    "        x_rec = self.decoder(self.dropout(z))\n",
    "        \n",
    "        return x_rec"
   ]
  },
  {
   "cell_type": "code",
   "execution_count": 14,
   "id": "15a32ed8",
   "metadata": {},
   "outputs": [],
   "source": [
    "# Multinomial loss function for implementing MultiDAE\n",
    "class MultinomialLoss(nn.Module):\n",
    "    def __init__(self):\n",
    "        super().__init__()\n",
    "\n",
    "    def forward(self,x_rec,x):\n",
    "        construction_error = -torch.mean(torch.sum(F.log_softmax(x_rec,dim=1) * x, dim=-1))\n",
    "        return construction_error"
   ]
  },
  {
   "cell_type": "code",
   "execution_count": 15,
   "id": "f12dbea4",
   "metadata": {},
   "outputs": [],
   "source": [
    "device = torch.device('cuda' if torch.cuda.is_available() else 'cpu')"
   ]
  },
  {
   "cell_type": "code",
   "execution_count": 16,
   "id": "c1fe7d20",
   "metadata": {},
   "outputs": [],
   "source": [
    "model_DAE = DAE(n_movies,256,128).to(device)"
   ]
  },
  {
   "cell_type": "code",
   "execution_count": 17,
   "id": "55356da0",
   "metadata": {},
   "outputs": [],
   "source": [
    "loss_func = nn.MSELoss()"
   ]
  },
  {
   "cell_type": "code",
   "execution_count": 18,
   "id": "18c88e5e",
   "metadata": {},
   "outputs": [],
   "source": [
    "optimizer = optim.Adam(model_DAE.parameters(),lr=0.0003)"
   ]
  },
  {
   "cell_type": "code",
   "execution_count": 19,
   "id": "dee00ab6",
   "metadata": {},
   "outputs": [
    {
     "name": "stdout",
     "output_type": "stream",
     "text": [
      "Epoch 1,train loss: 0.0344, val accuracy: 0.1513\n",
      "Epoch 2,train loss: 0.0316, val accuracy: 0.1730\n",
      "Epoch 3,train loss: 0.0311, val accuracy: 0.1953\n",
      "Epoch 4,train loss: 0.0308, val accuracy: 0.2086\n",
      "Epoch 5,train loss: 0.0306, val accuracy: 0.2275\n",
      "Epoch 6,train loss: 0.0302, val accuracy: 0.2372\n",
      "Epoch 7,train loss: 0.0300, val accuracy: 0.2470\n",
      "Epoch 8,train loss: 0.0298, val accuracy: 0.2535\n",
      "Epoch 9,train loss: 0.0297, val accuracy: 0.2581\n",
      "Epoch 10,train loss: 0.0296, val accuracy: 0.2629\n",
      "Epoch 11,train loss: 0.0295, val accuracy: 0.2661\n",
      "Epoch 12,train loss: 0.0295, val accuracy: 0.2708\n",
      "Epoch 13,train loss: 0.0294, val accuracy: 0.2751\n",
      "Epoch 14,train loss: 0.0293, val accuracy: 0.2791\n",
      "Epoch 15,train loss: 0.0293, val accuracy: 0.2822\n",
      "Epoch 16,train loss: 0.0292, val accuracy: 0.2840\n",
      "Epoch 17,train loss: 0.0291, val accuracy: 0.2868\n",
      "Epoch 18,train loss: 0.0290, val accuracy: 0.2885\n",
      "Epoch 19,train loss: 0.0291, val accuracy: 0.2900\n",
      "Epoch 20,train loss: 0.0289, val accuracy: 0.2914\n"
     ]
    }
   ],
   "source": [
    "epochs = 20\n",
    "\n",
    "for epoch in range(epochs):\n",
    "    model_DAE.train()\n",
    "    train_losses = []\n",
    "    for i,x in enumerate(train_loader):\n",
    "        x = x.to(device).to(torch.float32)\n",
    "        x_rec = model_DAE(x)\n",
    "        \n",
    "        cost = loss_func(x_rec,x)\n",
    "        optimizer.zero_grad()\n",
    "        cost.backward()\n",
    "        optimizer.step()\n",
    "        \n",
    "        train_losses.append(cost.item())\n",
    "    model_DAE.eval()\n",
    "    acc = accuracy_func(model_DAE,10)\n",
    "    \n",
    "    print(f\"Epoch {epoch + 1},train loss: {torch.tensor(train_losses).mean():.4f}, val accuracy: {acc:.4f}\")\n"
   ]
  }
 ],
 "metadata": {
  "kernelspec": {
   "display_name": "Python 3 (ipykernel)",
   "language": "python",
   "name": "python3"
  },
  "language_info": {
   "codemirror_mode": {
    "name": "ipython",
    "version": 3
   },
   "file_extension": ".py",
   "mimetype": "text/x-python",
   "name": "python",
   "nbconvert_exporter": "python",
   "pygments_lexer": "ipython3",
   "version": "3.9.13"
  }
 },
 "nbformat": 4,
 "nbformat_minor": 5
}
