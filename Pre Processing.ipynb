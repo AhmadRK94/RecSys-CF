{
 "cells": [
  {
   "cell_type": "markdown",
   "id": "3887aa1b",
   "metadata": {},
   "source": [
    "## Preprocessing"
   ]
  },
  {
   "cell_type": "markdown",
   "id": "2b1ded31",
   "metadata": {},
   "source": [
    "here's what we are going to do:\n",
    "   1) import packages. <br>\n",
    "   2) read MovieLens-1m dataset.\n",
    "   3) fix userId and MovieId. we will also delete timestamp column.\n",
    "   4) change the dataset into the implicit dataset. here we use both positive and negative feedback with threshold=3.\n",
    "   5) split our dataset into train and validation sets.\n",
    "   6) change our train dataset (triplets of userId, movieId, and rating) into an interaction matrix. why? because some of the methods will use an interaction matrix for training.\n",
    "   7) for some of the methods we also need to add another column to our triplet dataset which is the movieId that the user with userId doesn't have interaction with. we will call it negativeId.<br>\n",
    "\n",
    "so in the end, we have 3 datasets:\n",
    "   * interaction matrix R which will be saved as a sparse matrix.\n",
    "   * quadruplet dataset which will be saved as pandas dataframe.\n",
    "   * validation dataset which also will be saved as pandas dataframe.<br>\n",
    "\n",
    "you can download various versions of the MovieLens dataset from here: https://grouplens.org/datasets/movielens/"
   ]
  },
  {
   "cell_type": "markdown",
   "id": "aa25ba59",
   "metadata": {},
   "source": [
    "### Import Packages"
   ]
  },
  {
   "cell_type": "code",
   "execution_count": 1,
   "id": "f44b103a",
   "metadata": {},
   "outputs": [],
   "source": [
    "import pandas as pd\n",
    "import numpy as np\n",
    "from sklearn.model_selection import train_test_split\n",
    "import os\n",
    "from sklearn.preprocessing import LabelEncoder\n",
    "from scipy.sparse import csr_array,load_npz\n",
    "from scipy import sparse\n",
    "from torch_geometric.utils import negative_sampling\n",
    "import torch\n",
    "from tqdm import tqdm"
   ]
  },
  {
   "cell_type": "markdown",
   "id": "a13e53d9",
   "metadata": {},
   "source": [
    "### Read Dataset"
   ]
  },
  {
   "cell_type": "code",
   "execution_count": 2,
   "id": "26e1b9ed",
   "metadata": {},
   "outputs": [],
   "source": [
    "DATA_PATH = os.getcwd() + \"\\\\ml-1m\\\\ratings.dat\""
   ]
  },
  {
   "cell_type": "code",
   "execution_count": 3,
   "id": "e0a93717",
   "metadata": {},
   "outputs": [
    {
     "name": "stderr",
     "output_type": "stream",
     "text": [
      "C:\\Users\\Ahmad\\AppData\\Local\\Temp\\ipykernel_17992\\4256265442.py:1: ParserWarning: Falling back to the 'python' engine because the 'c' engine does not support regex separators (separators > 1 char and different from '\\s+' are interpreted as regex); you can avoid this warning by specifying engine='python'.\n",
      "  df = pd.read_csv(DATA_PATH,sep='::',names=['userId','movieId','rating','timestamp'])\n"
     ]
    }
   ],
   "source": [
    "df = pd.read_csv(DATA_PATH,sep='::',names=['userId','movieId','rating','timestamp'])"
   ]
  },
  {
   "cell_type": "code",
   "execution_count": 4,
   "id": "066c8490",
   "metadata": {},
   "outputs": [
    {
     "data": {
      "text/html": [
       "<div>\n",
       "<style scoped>\n",
       "    .dataframe tbody tr th:only-of-type {\n",
       "        vertical-align: middle;\n",
       "    }\n",
       "\n",
       "    .dataframe tbody tr th {\n",
       "        vertical-align: top;\n",
       "    }\n",
       "\n",
       "    .dataframe thead th {\n",
       "        text-align: right;\n",
       "    }\n",
       "</style>\n",
       "<table border=\"1\" class=\"dataframe\">\n",
       "  <thead>\n",
       "    <tr style=\"text-align: right;\">\n",
       "      <th></th>\n",
       "      <th>userId</th>\n",
       "      <th>movieId</th>\n",
       "      <th>rating</th>\n",
       "      <th>timestamp</th>\n",
       "    </tr>\n",
       "  </thead>\n",
       "  <tbody>\n",
       "    <tr>\n",
       "      <th>0</th>\n",
       "      <td>1</td>\n",
       "      <td>1193</td>\n",
       "      <td>5</td>\n",
       "      <td>978300760</td>\n",
       "    </tr>\n",
       "    <tr>\n",
       "      <th>1</th>\n",
       "      <td>1</td>\n",
       "      <td>661</td>\n",
       "      <td>3</td>\n",
       "      <td>978302109</td>\n",
       "    </tr>\n",
       "    <tr>\n",
       "      <th>2</th>\n",
       "      <td>1</td>\n",
       "      <td>914</td>\n",
       "      <td>3</td>\n",
       "      <td>978301968</td>\n",
       "    </tr>\n",
       "    <tr>\n",
       "      <th>3</th>\n",
       "      <td>1</td>\n",
       "      <td>3408</td>\n",
       "      <td>4</td>\n",
       "      <td>978300275</td>\n",
       "    </tr>\n",
       "    <tr>\n",
       "      <th>4</th>\n",
       "      <td>1</td>\n",
       "      <td>2355</td>\n",
       "      <td>5</td>\n",
       "      <td>978824291</td>\n",
       "    </tr>\n",
       "    <tr>\n",
       "      <th>...</th>\n",
       "      <td>...</td>\n",
       "      <td>...</td>\n",
       "      <td>...</td>\n",
       "      <td>...</td>\n",
       "    </tr>\n",
       "    <tr>\n",
       "      <th>1000204</th>\n",
       "      <td>6040</td>\n",
       "      <td>1091</td>\n",
       "      <td>1</td>\n",
       "      <td>956716541</td>\n",
       "    </tr>\n",
       "    <tr>\n",
       "      <th>1000205</th>\n",
       "      <td>6040</td>\n",
       "      <td>1094</td>\n",
       "      <td>5</td>\n",
       "      <td>956704887</td>\n",
       "    </tr>\n",
       "    <tr>\n",
       "      <th>1000206</th>\n",
       "      <td>6040</td>\n",
       "      <td>562</td>\n",
       "      <td>5</td>\n",
       "      <td>956704746</td>\n",
       "    </tr>\n",
       "    <tr>\n",
       "      <th>1000207</th>\n",
       "      <td>6040</td>\n",
       "      <td>1096</td>\n",
       "      <td>4</td>\n",
       "      <td>956715648</td>\n",
       "    </tr>\n",
       "    <tr>\n",
       "      <th>1000208</th>\n",
       "      <td>6040</td>\n",
       "      <td>1097</td>\n",
       "      <td>4</td>\n",
       "      <td>956715569</td>\n",
       "    </tr>\n",
       "  </tbody>\n",
       "</table>\n",
       "<p>1000209 rows × 4 columns</p>\n",
       "</div>"
      ],
      "text/plain": [
       "         userId  movieId  rating  timestamp\n",
       "0             1     1193       5  978300760\n",
       "1             1      661       3  978302109\n",
       "2             1      914       3  978301968\n",
       "3             1     3408       4  978300275\n",
       "4             1     2355       5  978824291\n",
       "...         ...      ...     ...        ...\n",
       "1000204    6040     1091       1  956716541\n",
       "1000205    6040     1094       5  956704887\n",
       "1000206    6040      562       5  956704746\n",
       "1000207    6040     1096       4  956715648\n",
       "1000208    6040     1097       4  956715569\n",
       "\n",
       "[1000209 rows x 4 columns]"
      ]
     },
     "execution_count": 4,
     "metadata": {},
     "output_type": "execute_result"
    }
   ],
   "source": [
    "df"
   ]
  },
  {
   "cell_type": "markdown",
   "id": "0fef5c1a",
   "metadata": {},
   "source": [
    "### Fixing userId and MovieId"
   ]
  },
  {
   "cell_type": "code",
   "execution_count": 5,
   "id": "08fbe861",
   "metadata": {},
   "outputs": [],
   "source": [
    "user_label_encoder = LabelEncoder()\n",
    "movie_label_encoder = LabelEncoder()"
   ]
  },
  {
   "cell_type": "code",
   "execution_count": 6,
   "id": "d2c32769",
   "metadata": {},
   "outputs": [],
   "source": [
    "df.userId = user_label_encoder.fit_transform(df.userId.values)\n",
    "df.movieId = movie_label_encoder.fit_transform(df.movieId.values)"
   ]
  },
  {
   "cell_type": "code",
   "execution_count": 7,
   "id": "3656bd5f",
   "metadata": {},
   "outputs": [],
   "source": [
    "n_users = np.unique(df.userId.values).shape[0]\n",
    "n_movies = np.unique(df.movieId.values).shape[0] "
   ]
  },
  {
   "cell_type": "code",
   "execution_count": 8,
   "id": "315fc007",
   "metadata": {},
   "outputs": [],
   "source": [
    "df.drop(columns=['timestamp'],inplace=True)"
   ]
  },
  {
   "cell_type": "markdown",
   "id": "976273d4",
   "metadata": {},
   "source": [
    "### Change feedbacks into implicit"
   ]
  },
  {
   "cell_type": "code",
   "execution_count": 9,
   "id": "0f1787d5",
   "metadata": {},
   "outputs": [],
   "source": [
    "df.rating[df.rating.values <3] = -1\n",
    "df.rating[df.rating.values >=3] = 1"
   ]
  },
  {
   "cell_type": "markdown",
   "id": "229a6738",
   "metadata": {},
   "source": [
    "### Train and validation split"
   ]
  },
  {
   "cell_type": "code",
   "execution_count": 10,
   "id": "195f62ae",
   "metadata": {},
   "outputs": [],
   "source": [
    "df_train,df_val = train_test_split(df,test_size=0.2,stratify=df.rating.values,random_state=42)"
   ]
  },
  {
   "cell_type": "code",
   "execution_count": 11,
   "id": "ce85cce2",
   "metadata": {},
   "outputs": [],
   "source": [
    "df_val.to_csv('df_val.csv',index=False)"
   ]
  },
  {
   "cell_type": "markdown",
   "id": "5ae5ab7f",
   "metadata": {},
   "source": [
    "### Constructing interaction matrix"
   ]
  },
  {
   "cell_type": "code",
   "execution_count": 12,
   "id": "f696cc7c",
   "metadata": {},
   "outputs": [],
   "source": [
    "rows = np.array(df_train.iloc[:,0])\n",
    "cols = np.array(df_train.iloc[:,1])\n",
    "values = np.array(df_train.iloc[:,2])"
   ]
  },
  {
   "cell_type": "code",
   "execution_count": 13,
   "id": "b6ec397e",
   "metadata": {},
   "outputs": [],
   "source": [
    "R_train = csr_array((values,(rows,cols)),shape=(n_users,n_movies),dtype=np.int8)"
   ]
  },
  {
   "cell_type": "code",
   "execution_count": 14,
   "id": "bf71b99b",
   "metadata": {},
   "outputs": [],
   "source": [
    "sparse.save_npz('R_train.npz',R_train)"
   ]
  },
  {
   "cell_type": "markdown",
   "id": "30dfa358",
   "metadata": {},
   "source": [
    "### Change triplet dataset into quadruplet"
   ]
  },
  {
   "cell_type": "code",
   "execution_count": 15,
   "id": "33b236a0",
   "metadata": {},
   "outputs": [],
   "source": [
    "row,col = df_train.userId.values, df_train.movieId.values"
   ]
  },
  {
   "cell_type": "code",
   "execution_count": 16,
   "id": "442632e8",
   "metadata": {},
   "outputs": [],
   "source": [
    "edge_index = torch.stack([torch.tensor(row),torch.tensor(col)],dim=0)"
   ]
  },
  {
   "cell_type": "code",
   "execution_count": 17,
   "id": "bfde349b",
   "metadata": {},
   "outputs": [],
   "source": [
    "neg = negative_sampling(edge_index,num_nodes=(n_users,n_movies),force_undirected=True)"
   ]
  },
  {
   "cell_type": "code",
   "execution_count": 18,
   "id": "e5328d69",
   "metadata": {},
   "outputs": [],
   "source": [
    "neg_sample = torch.empty_like(edge_index[0])"
   ]
  },
  {
   "cell_type": "code",
   "execution_count": 19,
   "id": "ed8cefca",
   "metadata": {},
   "outputs": [
    {
     "name": "stderr",
     "output_type": "stream",
     "text": [
      "100%|████████████████████████████████████████████████████████████████████████| 800167/800167 [10:52<00:00, 1226.52it/s]\n"
     ]
    }
   ],
   "source": [
    "for i in tqdm(range(edge_index[0].shape[0])):\n",
    "    idx = np.random.choice(torch.where(neg[0]==edge_index[0][i])[0].numpy(),size=1)[0]\n",
    "    neg_sample[i] = neg[1][idx]"
   ]
  },
  {
   "cell_type": "code",
   "execution_count": 20,
   "id": "524f99a1",
   "metadata": {},
   "outputs": [],
   "source": [
    "quadruplet = df_train.copy()"
   ]
  },
  {
   "cell_type": "code",
   "execution_count": 21,
   "id": "323af9a5",
   "metadata": {},
   "outputs": [
    {
     "data": {
      "text/html": [
       "<div>\n",
       "<style scoped>\n",
       "    .dataframe tbody tr th:only-of-type {\n",
       "        vertical-align: middle;\n",
       "    }\n",
       "\n",
       "    .dataframe tbody tr th {\n",
       "        vertical-align: top;\n",
       "    }\n",
       "\n",
       "    .dataframe thead th {\n",
       "        text-align: right;\n",
       "    }\n",
       "</style>\n",
       "<table border=\"1\" class=\"dataframe\">\n",
       "  <thead>\n",
       "    <tr style=\"text-align: right;\">\n",
       "      <th></th>\n",
       "      <th>userId</th>\n",
       "      <th>movieId</th>\n",
       "      <th>rating</th>\n",
       "    </tr>\n",
       "  </thead>\n",
       "  <tbody>\n",
       "    <tr>\n",
       "      <th>973180</th>\n",
       "      <td>5868</td>\n",
       "      <td>198</td>\n",
       "      <td>1</td>\n",
       "    </tr>\n",
       "    <tr>\n",
       "      <th>614205</th>\n",
       "      <td>3719</td>\n",
       "      <td>2961</td>\n",
       "      <td>1</td>\n",
       "    </tr>\n",
       "    <tr>\n",
       "      <th>987650</th>\n",
       "      <td>5960</td>\n",
       "      <td>3032</td>\n",
       "      <td>1</td>\n",
       "    </tr>\n",
       "    <tr>\n",
       "      <th>708993</th>\n",
       "      <td>4251</td>\n",
       "      <td>2651</td>\n",
       "      <td>1</td>\n",
       "    </tr>\n",
       "    <tr>\n",
       "      <th>294753</th>\n",
       "      <td>1751</td>\n",
       "      <td>1900</td>\n",
       "      <td>1</td>\n",
       "    </tr>\n",
       "    <tr>\n",
       "      <th>...</th>\n",
       "      <td>...</td>\n",
       "      <td>...</td>\n",
       "      <td>...</td>\n",
       "    </tr>\n",
       "    <tr>\n",
       "      <th>183330</th>\n",
       "      <td>1140</td>\n",
       "      <td>3321</td>\n",
       "      <td>1</td>\n",
       "    </tr>\n",
       "    <tr>\n",
       "      <th>484438</th>\n",
       "      <td>2981</td>\n",
       "      <td>796</td>\n",
       "      <td>-1</td>\n",
       "    </tr>\n",
       "    <tr>\n",
       "      <th>158760</th>\n",
       "      <td>1014</td>\n",
       "      <td>521</td>\n",
       "      <td>1</td>\n",
       "    </tr>\n",
       "    <tr>\n",
       "      <th>919703</th>\n",
       "      <td>5554</td>\n",
       "      <td>157</td>\n",
       "      <td>1</td>\n",
       "    </tr>\n",
       "    <tr>\n",
       "      <th>943031</th>\n",
       "      <td>5685</td>\n",
       "      <td>1822</td>\n",
       "      <td>-1</td>\n",
       "    </tr>\n",
       "  </tbody>\n",
       "</table>\n",
       "<p>800167 rows × 3 columns</p>\n",
       "</div>"
      ],
      "text/plain": [
       "        userId  movieId  rating\n",
       "973180    5868      198       1\n",
       "614205    3719     2961       1\n",
       "987650    5960     3032       1\n",
       "708993    4251     2651       1\n",
       "294753    1751     1900       1\n",
       "...        ...      ...     ...\n",
       "183330    1140     3321       1\n",
       "484438    2981      796      -1\n",
       "158760    1014      521       1\n",
       "919703    5554      157       1\n",
       "943031    5685     1822      -1\n",
       "\n",
       "[800167 rows x 3 columns]"
      ]
     },
     "execution_count": 21,
     "metadata": {},
     "output_type": "execute_result"
    }
   ],
   "source": [
    "quadruplet"
   ]
  },
  {
   "cell_type": "code",
   "execution_count": 22,
   "id": "4f60ee7a",
   "metadata": {},
   "outputs": [],
   "source": [
    "quadruplet['negativeId'] = neg_sample"
   ]
  },
  {
   "cell_type": "code",
   "execution_count": 23,
   "id": "7076046a",
   "metadata": {},
   "outputs": [
    {
     "data": {
      "text/html": [
       "<div>\n",
       "<style scoped>\n",
       "    .dataframe tbody tr th:only-of-type {\n",
       "        vertical-align: middle;\n",
       "    }\n",
       "\n",
       "    .dataframe tbody tr th {\n",
       "        vertical-align: top;\n",
       "    }\n",
       "\n",
       "    .dataframe thead th {\n",
       "        text-align: right;\n",
       "    }\n",
       "</style>\n",
       "<table border=\"1\" class=\"dataframe\">\n",
       "  <thead>\n",
       "    <tr style=\"text-align: right;\">\n",
       "      <th></th>\n",
       "      <th>userId</th>\n",
       "      <th>movieId</th>\n",
       "      <th>rating</th>\n",
       "      <th>negativeId</th>\n",
       "    </tr>\n",
       "  </thead>\n",
       "  <tbody>\n",
       "    <tr>\n",
       "      <th>973180</th>\n",
       "      <td>5868</td>\n",
       "      <td>198</td>\n",
       "      <td>1</td>\n",
       "      <td>2554</td>\n",
       "    </tr>\n",
       "    <tr>\n",
       "      <th>614205</th>\n",
       "      <td>3719</td>\n",
       "      <td>2961</td>\n",
       "      <td>1</td>\n",
       "      <td>3170</td>\n",
       "    </tr>\n",
       "    <tr>\n",
       "      <th>987650</th>\n",
       "      <td>5960</td>\n",
       "      <td>3032</td>\n",
       "      <td>1</td>\n",
       "      <td>1066</td>\n",
       "    </tr>\n",
       "    <tr>\n",
       "      <th>708993</th>\n",
       "      <td>4251</td>\n",
       "      <td>2651</td>\n",
       "      <td>1</td>\n",
       "      <td>1165</td>\n",
       "    </tr>\n",
       "    <tr>\n",
       "      <th>294753</th>\n",
       "      <td>1751</td>\n",
       "      <td>1900</td>\n",
       "      <td>1</td>\n",
       "      <td>1801</td>\n",
       "    </tr>\n",
       "    <tr>\n",
       "      <th>...</th>\n",
       "      <td>...</td>\n",
       "      <td>...</td>\n",
       "      <td>...</td>\n",
       "      <td>...</td>\n",
       "    </tr>\n",
       "    <tr>\n",
       "      <th>183330</th>\n",
       "      <td>1140</td>\n",
       "      <td>3321</td>\n",
       "      <td>1</td>\n",
       "      <td>573</td>\n",
       "    </tr>\n",
       "    <tr>\n",
       "      <th>484438</th>\n",
       "      <td>2981</td>\n",
       "      <td>796</td>\n",
       "      <td>-1</td>\n",
       "      <td>2725</td>\n",
       "    </tr>\n",
       "    <tr>\n",
       "      <th>158760</th>\n",
       "      <td>1014</td>\n",
       "      <td>521</td>\n",
       "      <td>1</td>\n",
       "      <td>2933</td>\n",
       "    </tr>\n",
       "    <tr>\n",
       "      <th>919703</th>\n",
       "      <td>5554</td>\n",
       "      <td>157</td>\n",
       "      <td>1</td>\n",
       "      <td>315</td>\n",
       "    </tr>\n",
       "    <tr>\n",
       "      <th>943031</th>\n",
       "      <td>5685</td>\n",
       "      <td>1822</td>\n",
       "      <td>-1</td>\n",
       "      <td>2735</td>\n",
       "    </tr>\n",
       "  </tbody>\n",
       "</table>\n",
       "<p>800167 rows × 4 columns</p>\n",
       "</div>"
      ],
      "text/plain": [
       "        userId  movieId  rating  negativeId\n",
       "973180    5868      198       1        2554\n",
       "614205    3719     2961       1        3170\n",
       "987650    5960     3032       1        1066\n",
       "708993    4251     2651       1        1165\n",
       "294753    1751     1900       1        1801\n",
       "...        ...      ...     ...         ...\n",
       "183330    1140     3321       1         573\n",
       "484438    2981      796      -1        2725\n",
       "158760    1014      521       1        2933\n",
       "919703    5554      157       1         315\n",
       "943031    5685     1822      -1        2735\n",
       "\n",
       "[800167 rows x 4 columns]"
      ]
     },
     "execution_count": 23,
     "metadata": {},
     "output_type": "execute_result"
    }
   ],
   "source": [
    "quadruplet"
   ]
  },
  {
   "cell_type": "code",
   "execution_count": 24,
   "id": "2e72469a",
   "metadata": {},
   "outputs": [],
   "source": [
    "quadruplet.to_csv('quadruplet.csv',index=False)"
   ]
  },
  {
   "cell_type": "code",
   "execution_count": null,
   "id": "6c956784",
   "metadata": {},
   "outputs": [],
   "source": []
  }
 ],
 "metadata": {
  "kernelspec": {
   "display_name": "Python 3 (ipykernel)",
   "language": "python",
   "name": "python3"
  },
  "language_info": {
   "codemirror_mode": {
    "name": "ipython",
    "version": 3
   },
   "file_extension": ".py",
   "mimetype": "text/x-python",
   "name": "python",
   "nbconvert_exporter": "python",
   "pygments_lexer": "ipython3",
   "version": "3.9.13"
  }
 },
 "nbformat": 4,
 "nbformat_minor": 5
}
