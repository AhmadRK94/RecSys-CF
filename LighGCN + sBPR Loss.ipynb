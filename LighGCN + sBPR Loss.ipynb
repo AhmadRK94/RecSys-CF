{
 "cells": [
  {
   "cell_type": "markdown",
   "id": "75299eab",
   "metadata": {},
   "source": [
    "## LightGCN with Sign-aware  BPR loss"
   ]
  },
  {
   "cell_type": "markdown",
   "id": "e7710715",
   "metadata": {},
   "source": [
    "## Import Packages"
   ]
  },
  {
   "cell_type": "code",
   "execution_count": 1,
   "id": "572b2b19",
   "metadata": {},
   "outputs": [],
   "source": [
    "import pandas as pd\n",
    "import numpy as np\n",
    "from scipy.sparse import load_npz\n",
    "from scipy import sparse\n",
    "import os\n",
    "from torch import nn\n",
    "import torch.optim as optim\n",
    "from torch.utils.data import Dataset,DataLoader\n",
    "import torch\n",
    "import torch.nn.functional as F\n",
    "from torch import Tensor\n",
    "from torch_geometric.nn import MessagePassing\n",
    "from torch_geometric.utils import degree\n",
    "from torch_geometric.nn.conv.gcn_conv import gcn_norm\n",
    "from torch_geometric.data import Data"
   ]
  },
  {
   "cell_type": "markdown",
   "id": "d2ed3968",
   "metadata": {},
   "source": [
    "### Loading data"
   ]
  },
  {
   "cell_type": "code",
   "execution_count": 2,
   "id": "3fb2f8b4",
   "metadata": {},
   "outputs": [],
   "source": [
    "df_val = pd.read_csv('df_val.csv')"
   ]
  },
  {
   "cell_type": "code",
   "execution_count": 3,
   "id": "6d12154a",
   "metadata": {},
   "outputs": [],
   "source": [
    "df_train = pd.read_csv('quadruplet.csv')"
   ]
  },
  {
   "cell_type": "code",
   "execution_count": 4,
   "id": "5d71cf35",
   "metadata": {},
   "outputs": [],
   "source": [
    "R = load_npz('R_train.npz')"
   ]
  },
  {
   "cell_type": "code",
   "execution_count": 5,
   "id": "1fc51d61",
   "metadata": {},
   "outputs": [],
   "source": [
    "n_users,n_movies = R.shape"
   ]
  },
  {
   "cell_type": "markdown",
   "id": "1171d834",
   "metadata": {},
   "source": [
    "### Prepare dataset for PyTorch model"
   ]
  },
  {
   "cell_type": "code",
   "execution_count": 6,
   "id": "d90f736c",
   "metadata": {},
   "outputs": [],
   "source": [
    "class MovieDataset(Dataset):\n",
    "    def __init__(self,df):\n",
    "        self.df  = df\n",
    "        \n",
    "    def __len__(self):\n",
    "        return self.df.shape[0]\n",
    "    def __getitem__(self,idx):\n",
    "        \n",
    "        u = torch.tensor(self.df.iloc[idx,0],dtype=torch.long)\n",
    "        p = torch.tensor(self.df.iloc[idx,1],dtype=torch.long)\n",
    "        n = torch.tensor(self.df.iloc[idx,3],dtype=torch.long)\n",
    "        r = torch.tensor(self.df.iloc[idx,2],dtype=torch.long)\n",
    "        \n",
    "        return (u,p,n,r)"
   ]
  },
  {
   "cell_type": "code",
   "execution_count": 7,
   "id": "3fdcb880",
   "metadata": {},
   "outputs": [],
   "source": [
    "train_dataset = MovieDataset(df_train)"
   ]
  },
  {
   "cell_type": "code",
   "execution_count": 8,
   "id": "ad64e391",
   "metadata": {},
   "outputs": [],
   "source": [
    "BATCH_SIZE = 2048\n",
    "train_loader = DataLoader(dataset=train_dataset,\n",
    "                         batch_size=BATCH_SIZE,\n",
    "                         shuffle=True,\n",
    "                         )"
   ]
  },
  {
   "cell_type": "markdown",
   "id": "7e305f1b",
   "metadata": {},
   "source": [
    "### Constructing accuracy function"
   ]
  },
  {
   "cell_type": "code",
   "execution_count": 9,
   "id": "fabdb9c4",
   "metadata": {},
   "outputs": [],
   "source": [
    "one_idxs=[]\n",
    "minus_one_idxs=[]\n",
    "hold_out=[]\n",
    "hold_out_minus=[]"
   ]
  },
  {
   "cell_type": "code",
   "execution_count": 10,
   "id": "f3b6f6f2",
   "metadata": {},
   "outputs": [],
   "source": [
    "for i in range(n_users):\n",
    "    one_idxs.append(np.where(R[[i],:].toarray()[0] == 1)[0])\n",
    "    minus_one_idxs.append(np.where(R[[i],:].toarray()[0] == -1)[0])\n",
    "    hold_out.append(df_val.query(f\"userId=={i} & rating==1\").movieId.values)\n",
    "    hold_out_minus.append(df_val.query(f\"userId=={i} & rating==-1\").movieId.values)"
   ]
  },
  {
   "cell_type": "code",
   "execution_count": 11,
   "id": "19109ecb",
   "metadata": {},
   "outputs": [],
   "source": [
    "def accuracy_func(E,k=10):\n",
    "    E = E.to('cpu').detach()\n",
    "    ue, ui = torch.split(E,[n_users,n_movies])\n",
    "    S = torch.matmul(ue,ui.T).numpy()\n",
    "    accuracy = []\n",
    "    for i in range(n_users):\n",
    "        output = S[i]\n",
    "        np.put(output,one_idxs[i],-np.inf)\n",
    "        np.put(output,minus_one_idxs[i],-np.inf)\n",
    "        c = len(np.intersect1d(np.argsort(output)[::-1][:k],hold_out[i]))\n",
    "        nc = len(np.intersect1d(np.argsort(output)[::-1][:k],hold_out_minus[i]))\n",
    "#         acc = np.max([0,(c-nc)/(np.min([k,len(hold_out[i])+1]))]) ## Recal@K\n",
    "        acc = np.max([0,(c-nc)/k]) ## HR@K\n",
    "        accuracy.append(acc)\n",
    "    return np.mean(accuracy)"
   ]
  },
  {
   "cell_type": "markdown",
   "id": "a86142ba",
   "metadata": {},
   "source": [
    "### LightGCN model + sBPR Loss"
   ]
  },
  {
   "cell_type": "code",
   "execution_count": 12,
   "id": "3408c5b3",
   "metadata": {},
   "outputs": [],
   "source": [
    "class LightGCN(MessagePassing):\n",
    "    def __init__(self,num_users=n_users,\n",
    "                 num_items=n_movies,\n",
    "                embedding_size=64,\n",
    "                n_layers=3):\n",
    "        super().__init__(aggr='add')\n",
    "        self.n_users = num_users\n",
    "        self.n_items = num_items\n",
    "        self.embedding_size = embedding_size\n",
    "        self.n_layers = n_layers\n",
    "        self.E = nn.Parameter(torch.empty(n_users + n_movies,self.embedding_size))\n",
    "        nn.init.xavier_normal_(self.E.data)\n",
    "        \n",
    "        \n",
    "        \n",
    "    def forward(self,edge_index):\n",
    "        \n",
    "        row, col = edge_index\n",
    "        deg = degree(col, self.E.size(0), dtype=self.E.dtype)\n",
    "        deg_inv_sqrt = deg.pow(-0.5)\n",
    "        deg_inv_sqrt[deg_inv_sqrt == float('inf')] = 0\n",
    "        norm = deg_inv_sqrt[row] * deg_inv_sqrt[col]\n",
    "        \n",
    "        \n",
    "        B=[]\n",
    "        B.append(self.E)\n",
    "        x = self.E\n",
    "\n",
    "        for i in range(self.n_layers):\n",
    "            x = self.propagate(edge_index,x=x,norm=norm)\n",
    "            B.append(x)\n",
    "        \n",
    "        final_embedding = sum(B)/len(B)\n",
    "        first_embedding = B[0]\n",
    "        return final_embedding, first_embedding\n",
    "    \n",
    "    def message(self,x_j,norm):\n",
    "        return norm.view(-1,1) * x_j\n",
    "    def update(self,inputs: Tensor) -> Tensor:\n",
    "        return inputs"
   ]
  },
  {
   "cell_type": "code",
   "execution_count": 13,
   "id": "40b5d29f",
   "metadata": {},
   "outputs": [],
   "source": [
    "class sBPR(nn.Module):\n",
    "    def __init__(self,n_users,n_items,reg=0.01):\n",
    "        super().__init__()\n",
    "        \n",
    "        self.reg = reg\n",
    "        self.n_users = n_users\n",
    "        self.n_items = n_items\n",
    "        \n",
    "    def forward(self,E,E0,u,p,n,r):\n",
    "        self.E = E\n",
    "        self.E0 = E0\n",
    "        self.user_embedding, self.item_embedding = torch.split(self.E,[self.n_users,self.n_items])\n",
    "        self.user_embedding_0, self.item_embedding_0 = torch.split(self.E0,[self.n_users,self.n_items])\n",
    "        u_ = self.user_embedding[u].to(device)\n",
    "        p_ = self.item_embedding[p].to(device)\n",
    "        n_ = self.item_embedding[n].to(device)\n",
    "        r_ = r.to(device)\n",
    "        u0 = self.user_embedding_0[u].to(device)\n",
    "        p0 = self.item_embedding_0[p].to(device)\n",
    "        n0 = self.item_embedding_0[n].to(device)\n",
    "        \n",
    "        \n",
    "        \n",
    "        positive_interaction = torch.mul(u_, p_).sum(dim=1)\n",
    "        negative_interaction = torch.mul(u_, n_).sum(dim=1)\n",
    "        sign_delta = ((-1/2*torch.sign(r_)+3/2)*positive_interaction) - negative_interaction\n",
    "        \n",
    "        log_prob = F.logsigmoid(sign_delta).sum()\n",
    "        regularization = self.reg * (u0.norm(dim=1).pow(2).sum() + p0.norm(dim=1).pow(2).sum() + n0.norm(dim=1).pow(2).sum())\n",
    "        return (-log_prob + regularization)/len(u_)"
   ]
  },
  {
   "cell_type": "code",
   "execution_count": 14,
   "id": "a83ec9b0",
   "metadata": {},
   "outputs": [],
   "source": [
    "device = torch.device('cuda' if torch.cuda.is_available() else 'cpu')"
   ]
  },
  {
   "cell_type": "code",
   "execution_count": 15,
   "id": "e0c0b155",
   "metadata": {},
   "outputs": [],
   "source": [
    "model = LightGCN().to(device)"
   ]
  },
  {
   "cell_type": "code",
   "execution_count": 16,
   "id": "04d7fd1d",
   "metadata": {},
   "outputs": [],
   "source": [
    "loss = sBPR(n_users,n_movies).to(device)"
   ]
  },
  {
   "cell_type": "code",
   "execution_count": 17,
   "id": "b01dd2cb",
   "metadata": {},
   "outputs": [],
   "source": [
    "optimizer = optim.Adam(model.parameters(),lr=0.005)"
   ]
  },
  {
   "cell_type": "code",
   "execution_count": 18,
   "id": "b168de8c",
   "metadata": {},
   "outputs": [],
   "source": [
    "row, col = R.nonzero()"
   ]
  },
  {
   "cell_type": "code",
   "execution_count": 19,
   "id": "2640b5d8",
   "metadata": {},
   "outputs": [],
   "source": [
    "edge_user = torch.tensor(row,dtype=torch.long)\n",
    "edge_item = torch.tensor(col,dtype=torch.long) + n_users"
   ]
  },
  {
   "cell_type": "code",
   "execution_count": 20,
   "id": "3513d7ea",
   "metadata": {},
   "outputs": [],
   "source": [
    "edge_ = torch.stack((torch.cat((edge_user,edge_item),0),torch.cat((edge_item,edge_user),0)),0)"
   ]
  },
  {
   "cell_type": "code",
   "execution_count": 21,
   "id": "7854fd13",
   "metadata": {},
   "outputs": [],
   "source": [
    "A_edge_index = Data(edge_index=edge_)"
   ]
  },
  {
   "cell_type": "code",
   "execution_count": 22,
   "id": "d47e42ec",
   "metadata": {},
   "outputs": [
    {
     "name": "stdout",
     "output_type": "stream",
     "text": [
      "Epoch 1,train loss: 0.3831, val accuracy: 0.1638\n",
      "Epoch 2,train loss: 0.3608, val accuracy: 0.1639\n",
      "Epoch 3,train loss: 0.3607, val accuracy: 0.1646\n",
      "Epoch 4,train loss: 0.3595, val accuracy: 0.1675\n",
      "Epoch 5,train loss: 0.3567, val accuracy: 0.1731\n",
      "Epoch 6,train loss: 0.3556, val accuracy: 0.1757\n",
      "Epoch 7,train loss: 0.3554, val accuracy: 0.1766\n",
      "Epoch 8,train loss: 0.3553, val accuracy: 0.1767\n",
      "Epoch 9,train loss: 0.3553, val accuracy: 0.1769\n",
      "Epoch 10,train loss: 0.3552, val accuracy: 0.1765\n"
     ]
    }
   ],
   "source": [
    "epochs = 10\n",
    "\n",
    "for epoch in range(epochs):\n",
    "    model.train()\n",
    "    train_losses = []\n",
    "    for i,(u,p,n,r) in enumerate(train_loader):\n",
    "        \n",
    "        E,E_0 = model(A_edge_index.edge_index.to(device)) \n",
    "        cost = loss(E,E_0,u,p,n,r)\n",
    "        optimizer.zero_grad()\n",
    "        cost.backward()\n",
    "        optimizer.step()\n",
    "        \n",
    "        train_losses.append(cost.item())\n",
    "    model.eval()\n",
    "    E,_ = model(A_edge_index.edge_index.to(device))\n",
    "    acc = accuracy_func(E,10)\n",
    "    \n",
    "    print(f\"Epoch {epoch + 1},train loss: {torch.tensor(train_losses).mean():.4f}, val accuracy: {acc:.4f}\")\n"
   ]
  }
 ],
 "metadata": {
  "kernelspec": {
   "display_name": "Python 3 (ipykernel)",
   "language": "python",
   "name": "python3"
  },
  "language_info": {
   "codemirror_mode": {
    "name": "ipython",
    "version": 3
   },
   "file_extension": ".py",
   "mimetype": "text/x-python",
   "name": "python",
   "nbconvert_exporter": "python",
   "pygments_lexer": "ipython3",
   "version": "3.9.13"
  }
 },
 "nbformat": 4,
 "nbformat_minor": 5
}
