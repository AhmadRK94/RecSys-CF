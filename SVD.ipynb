{
 "cells": [
  {
   "cell_type": "markdown",
   "id": "5bfb40af",
   "metadata": {},
   "source": [
    "### Import packages"
   ]
  },
  {
   "cell_type": "code",
   "execution_count": 1,
   "id": "02c7faa0",
   "metadata": {},
   "outputs": [],
   "source": [
    "import pandas as pd\n",
    "import numpy as np\n",
    "from scipy.sparse import csr_array,load_npz\n",
    "from scipy import sparse"
   ]
  },
  {
   "cell_type": "markdown",
   "id": "69210a8a",
   "metadata": {},
   "source": [
    "### Read data"
   ]
  },
  {
   "cell_type": "code",
   "execution_count": 2,
   "id": "89c762fa",
   "metadata": {},
   "outputs": [],
   "source": [
    "df_val = pd.read_csv('df_val.csv')"
   ]
  },
  {
   "cell_type": "code",
   "execution_count": 3,
   "id": "f1f82b8a",
   "metadata": {},
   "outputs": [],
   "source": [
    "R = load_npz('R_train.npz')"
   ]
  },
  {
   "cell_type": "code",
   "execution_count": 4,
   "id": "a1c0f6a7",
   "metadata": {},
   "outputs": [],
   "source": [
    "n_users,n_movies = R.shape"
   ]
  },
  {
   "cell_type": "markdown",
   "id": "31a6f047",
   "metadata": {},
   "source": [
    "### Constructing accuracy function"
   ]
  },
  {
   "cell_type": "code",
   "execution_count": 5,
   "id": "5ed2c046",
   "metadata": {},
   "outputs": [],
   "source": [
    "one_idxs=[]\n",
    "minus_one_idxs=[]\n",
    "hold_out=[]\n",
    "hold_out_minus=[]"
   ]
  },
  {
   "cell_type": "code",
   "execution_count": 6,
   "id": "d5f6ffea",
   "metadata": {},
   "outputs": [],
   "source": [
    "for i in range(n_users):\n",
    "    one_idxs.append(np.where(R[[i],:].toarray()[0] == 1)[0])\n",
    "    minus_one_idxs.append(np.where(R[[i],:].toarray()[0] == -1)[0])\n",
    "    hold_out.append(df_val.query(f\"userId=={i} & rating==1\").movieId.values)\n",
    "    hold_out_minus.append(df_val.query(f\"userId=={i} & rating==-1\").movieId.values)"
   ]
  },
  {
   "cell_type": "code",
   "execution_count": 7,
   "id": "100d29fe",
   "metadata": {},
   "outputs": [],
   "source": [
    "def accuracy_func(S,k=10):\n",
    "    accuracy = []\n",
    "    for i in range(n_users):\n",
    "        output = S[i]\n",
    "        np.put(output,one_idxs[i],-np.inf)\n",
    "        np.put(output,minus_one_idxs[i],-np.inf)\n",
    "        c = len(np.intersect1d(np.argsort(output)[::-1][:k],hold_out[i]))\n",
    "        nc = len(np.intersect1d(np.argsort(output)[::-1][:k],hold_out_minus[i]))\n",
    "#         acc = np.max([0,(c-nc)/(np.min([k,len(hold_out[i])+1]))]) ## Recal@K\n",
    "        acc = np.max([0,(c-nc)/k]) ## HR@K\n",
    "        accuracy.append(acc)\n",
    "    return np.mean(accuracy)"
   ]
  },
  {
   "cell_type": "markdown",
   "id": "03cebb7a",
   "metadata": {},
   "source": [
    "### SVD function"
   ]
  },
  {
   "cell_type": "code",
   "execution_count": 8,
   "id": "b9c8dfc8",
   "metadata": {},
   "outputs": [],
   "source": [
    "def SVD(R,k=16):\n",
    "    R = csr_array(R,dtype=np.float32)\n",
    "    u,_,v = sparse.linalg.svds(R,k=k)\n",
    "    S = np.matmul(u,v)\n",
    "    return S"
   ]
  },
  {
   "cell_type": "code",
   "execution_count": 9,
   "id": "b5aad700",
   "metadata": {},
   "outputs": [],
   "source": [
    "S = SVD(R,k=16)"
   ]
  },
  {
   "cell_type": "code",
   "execution_count": 10,
   "id": "976553ef",
   "metadata": {},
   "outputs": [
    {
     "data": {
      "text/plain": [
       "0.27519867549668875"
      ]
     },
     "execution_count": 10,
     "metadata": {},
     "output_type": "execute_result"
    }
   ],
   "source": [
    "accuracy_func(S)"
   ]
  }
 ],
 "metadata": {
  "kernelspec": {
   "display_name": "Python 3 (ipykernel)",
   "language": "python",
   "name": "python3"
  },
  "language_info": {
   "codemirror_mode": {
    "name": "ipython",
    "version": 3
   },
   "file_extension": ".py",
   "mimetype": "text/x-python",
   "name": "python",
   "nbconvert_exporter": "python",
   "pygments_lexer": "ipython3",
   "version": "3.9.13"
  }
 },
 "nbformat": 4,
 "nbformat_minor": 5
}
