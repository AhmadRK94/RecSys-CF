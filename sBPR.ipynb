{
 "cells": [
  {
   "cell_type": "markdown",
   "id": "cfaf5e87",
   "metadata": {},
   "source": [
    "## Sign-aware Bayesian Personalized Ranking"
   ]
  },
  {
   "cell_type": "markdown",
   "id": "e881035c",
   "metadata": {},
   "source": [
    "### Import Packages"
   ]
  },
  {
   "cell_type": "code",
   "execution_count": 1,
   "id": "b5284aab",
   "metadata": {},
   "outputs": [],
   "source": [
    "import pandas as pd\n",
    "import numpy as np\n",
    "from scipy.sparse import load_npz\n",
    "from scipy import sparse\n",
    "from torch import nn\n",
    "import torch.optim as optim\n",
    "from torch.utils.data import Dataset,DataLoader \n",
    "import torch\n",
    "import torch.nn.functional as F"
   ]
  },
  {
   "cell_type": "markdown",
   "id": "9958e91b",
   "metadata": {},
   "source": [
    "### Loading data"
   ]
  },
  {
   "cell_type": "code",
   "execution_count": 2,
   "id": "3e38af0f",
   "metadata": {},
   "outputs": [],
   "source": [
    "df_val = pd.read_csv('df_val.csv')"
   ]
  },
  {
   "cell_type": "code",
   "execution_count": 3,
   "id": "fc89b12c",
   "metadata": {},
   "outputs": [],
   "source": [
    "df_train = pd.read_csv('quadruplet.csv')"
   ]
  },
  {
   "cell_type": "code",
   "execution_count": 4,
   "id": "2bc91a42",
   "metadata": {},
   "outputs": [],
   "source": [
    "R = load_npz('R_train.npz')"
   ]
  },
  {
   "cell_type": "code",
   "execution_count": 5,
   "id": "cca0165e",
   "metadata": {},
   "outputs": [],
   "source": [
    "n_users,n_movies = R.shape"
   ]
  },
  {
   "cell_type": "markdown",
   "id": "bdd42a92",
   "metadata": {},
   "source": [
    "### Construct accuracy function"
   ]
  },
  {
   "cell_type": "code",
   "execution_count": 6,
   "id": "33a43561",
   "metadata": {},
   "outputs": [],
   "source": [
    "one_idxs=[]\n",
    "minus_one_idxs=[]\n",
    "hold_out=[]\n",
    "hold_out_minus=[]"
   ]
  },
  {
   "cell_type": "code",
   "execution_count": 7,
   "id": "a1950982",
   "metadata": {},
   "outputs": [],
   "source": [
    "for i in range(n_users):\n",
    "    one_idxs.append(np.where(R[[i],:].toarray()[0] == 1)[0])\n",
    "    minus_one_idxs.append(np.where(R[[i],:].toarray()[0] == -1)[0])\n",
    "    hold_out.append(df_val.query(f\"userId=={i} & rating==1\").movieId.values)\n",
    "    hold_out_minus.append(df_val.query(f\"userId=={i} & rating==-1\").movieId.values)"
   ]
  },
  {
   "cell_type": "code",
   "execution_count": 8,
   "id": "2b907a7b",
   "metadata": {},
   "outputs": [],
   "source": [
    "def accuracy_func(model,k=10):\n",
    "    S = torch.matmul(model.users_embedding.weight.detach(),model.item_embedding.weight.detach().T).to('cpu').numpy()\n",
    "    accuracy = []\n",
    "    for i in range(n_users):\n",
    "        output = S[i]\n",
    "        np.put(output,one_idxs[i],-np.inf)\n",
    "        np.put(output,minus_one_idxs[i],-np.inf)\n",
    "        c = len(np.intersect1d(np.argsort(output)[::-1][:k],hold_out[i]))\n",
    "        nc = len(np.intersect1d(np.argsort(output)[::-1][:k],hold_out_minus[i]))\n",
    "#         acc = np.max([0,(c-nc)/(np.min([k,len(hold_out[i])+1]))]) ## Recal@K\n",
    "        acc = np.max([0,(c-nc)/k]) ## HR@K\n",
    "        accuracy.append(acc)\n",
    "    return np.mean(accuracy)"
   ]
  },
  {
   "cell_type": "markdown",
   "id": "21426e3f",
   "metadata": {},
   "source": [
    "### Prepare data for PyTorch model"
   ]
  },
  {
   "cell_type": "code",
   "execution_count": 9,
   "id": "8e04945d",
   "metadata": {},
   "outputs": [],
   "source": [
    "class MovieDataset(Dataset):\n",
    "    def __init__(self,df):\n",
    "        self.df  = df\n",
    "        \n",
    "    def __len__(self):\n",
    "        return self.df.shape[0]\n",
    "    def __getitem__(self,idx):\n",
    "        \n",
    "        u = torch.tensor(self.df.iloc[idx,0],dtype=torch.int32)\n",
    "        p = torch.tensor(self.df.iloc[idx,1],dtype=torch.int32)\n",
    "        n = torch.tensor(self.df.iloc[idx,3],dtype=torch.int32)\n",
    "        r = torch.tensor(self.df.iloc[idx,2],dtype=torch.int32)\n",
    "        \n",
    "        return (u,p,n,r)"
   ]
  },
  {
   "cell_type": "code",
   "execution_count": 10,
   "id": "cea81e4b",
   "metadata": {},
   "outputs": [],
   "source": [
    "train_dataset = MovieDataset(df_train)"
   ]
  },
  {
   "cell_type": "code",
   "execution_count": 11,
   "id": "3dd3fd5e",
   "metadata": {},
   "outputs": [],
   "source": [
    "BATCH_SIZE = 4096\n",
    "train_loader = DataLoader(dataset=train_dataset,\n",
    "                         batch_size=BATCH_SIZE,\n",
    "                         shuffle=True,\n",
    "                         )"
   ]
  },
  {
   "cell_type": "markdown",
   "id": "5fe99424",
   "metadata": {},
   "source": [
    "### sBPR model"
   ]
  },
  {
   "cell_type": "code",
   "execution_count": 12,
   "id": "79a2f1c5",
   "metadata": {},
   "outputs": [],
   "source": [
    "class sBPR(nn.Module):\n",
    "    def __init__(self, n_users, n_movies, embedding_size=192,reg=0.01):\n",
    "        super().__init__()\n",
    "        \n",
    "        self.users_embedding = nn.Embedding(n_users,embedding_size)\n",
    "        self.item_embedding = nn.Embedding(n_movies,embedding_size)\n",
    "        \n",
    "        nn.init.xavier_normal_(self.users_embedding.weight)\n",
    "        nn.init.xavier_normal_(self.item_embedding.weight)\n",
    "        \n",
    "        self.reg = reg\n",
    "        self.embedding_size = embedding_size\n",
    "        \n",
    "    def forward(self,u,p,n,r):\n",
    "        u_ = self.users_embedding(u.to(device))\n",
    "        p_ = self.item_embedding(p.to(device))\n",
    "        n_ = self.item_embedding(n.to(device))\n",
    "        r_ = r.to(device)\n",
    "        \n",
    "        \n",
    "        positive_interaction = torch.mul(u_, p_).sum(dim=1)\n",
    "        negative_interaction = torch.mul(u_, n_).sum(dim=1)\n",
    "        sign_delta = ((-1/2*torch.sign(r_)+3/2)*positive_interaction) - negative_interaction\n",
    "#         sign_delta = (torch.sign(r_)*positive_interaction) - negative_interaction\n",
    "\n",
    "        log_prob = F.logsigmoid(sign_delta).sum()\n",
    "        regularization = self.reg * (u_.norm(dim=1).pow(2).sum() + p_.norm(dim=1).pow(2).sum() + n_.norm(dim=1).pow(2).sum())\n",
    "        return -log_prob + regularization"
   ]
  },
  {
   "cell_type": "code",
   "execution_count": 13,
   "id": "dd64fe65",
   "metadata": {},
   "outputs": [],
   "source": [
    "device = torch.device('cuda' if torch.cuda.is_available() else 'cpu')"
   ]
  },
  {
   "cell_type": "code",
   "execution_count": 14,
   "id": "94b35d0b",
   "metadata": {},
   "outputs": [],
   "source": [
    "model = sBPR(n_users,n_movies).to(device)"
   ]
  },
  {
   "cell_type": "code",
   "execution_count": 15,
   "id": "379a329a",
   "metadata": {},
   "outputs": [],
   "source": [
    "optimizer= optim.Adam(model.parameters(),lr=0.001)"
   ]
  },
  {
   "cell_type": "code",
   "execution_count": 16,
   "id": "46d7cf1f",
   "metadata": {},
   "outputs": [
    {
     "name": "stdout",
     "output_type": "stream",
     "text": [
      "Epoch 1,train loss: 2612.1199, val accuracy: 0.1691\n",
      "Epoch 2,train loss: 1587.6693, val accuracy: 0.1699\n",
      "Epoch 3,train loss: 1410.6881, val accuracy: 0.1959\n",
      "Epoch 4,train loss: 1297.6490, val accuracy: 0.2062\n",
      "Epoch 5,train loss: 1229.1805, val accuracy: 0.2150\n",
      "Epoch 6,train loss: 1184.9893, val accuracy: 0.2223\n",
      "Epoch 7,train loss: 1153.3771, val accuracy: 0.2263\n",
      "Epoch 8,train loss: 1129.2069, val accuracy: 0.2290\n",
      "Epoch 9,train loss: 1109.8672, val accuracy: 0.2305\n",
      "Epoch 10,train loss: 1094.0647, val accuracy: 0.2314\n"
     ]
    }
   ],
   "source": [
    "epochs = 10\n",
    "\n",
    "for epoch in range(epochs):\n",
    "    model.train()\n",
    "    train_losses = []\n",
    "    for i,(u,p,n,r) in enumerate(train_loader):\n",
    "        \n",
    "        cost = model(u,p,n,r) \n",
    "        optimizer.zero_grad()\n",
    "        cost.backward()\n",
    "        optimizer.step()\n",
    "        \n",
    "        train_losses.append(cost.item())\n",
    "    model.eval()\n",
    "    acc = accuracy_func(model,10)\n",
    "    \n",
    "    print(f\"Epoch {epoch + 1},train loss: {torch.tensor(train_losses).mean():.4f}, val accuracy: {acc:.4f}\")\n"
   ]
  },
  {
   "cell_type": "code",
   "execution_count": null,
   "id": "d6034de7",
   "metadata": {},
   "outputs": [],
   "source": []
  }
 ],
 "metadata": {
  "kernelspec": {
   "display_name": "Python 3 (ipykernel)",
   "language": "python",
   "name": "python3"
  },
  "language_info": {
   "codemirror_mode": {
    "name": "ipython",
    "version": 3
   },
   "file_extension": ".py",
   "mimetype": "text/x-python",
   "name": "python",
   "nbconvert_exporter": "python",
   "pygments_lexer": "ipython3",
   "version": "3.9.13"
  }
 },
 "nbformat": 4,
 "nbformat_minor": 5
}
