{
 "cells": [
  {
   "cell_type": "markdown",
   "id": "7de85567",
   "metadata": {},
   "source": [
    "### Import Packages"
   ]
  },
  {
   "cell_type": "code",
   "execution_count": 1,
   "id": "ec87ac0b",
   "metadata": {},
   "outputs": [],
   "source": [
    "import pandas as pd\n",
    "import numpy as np\n",
    "from scipy.sparse import load_npz\n",
    "from scipy import sparse\n",
    "from torch import nn\n",
    "import torch.optim as optim\n",
    "from torch.utils.data import Dataset,DataLoader\n",
    "import torch\n",
    "import torch.nn.functional as F"
   ]
  },
  {
   "cell_type": "markdown",
   "id": "d24882c6",
   "metadata": {},
   "source": [
    "### Read data"
   ]
  },
  {
   "cell_type": "code",
   "execution_count": 2,
   "id": "690d27ec",
   "metadata": {},
   "outputs": [],
   "source": [
    "df_val = pd.read_csv('df_val.csv')"
   ]
  },
  {
   "cell_type": "code",
   "execution_count": 3,
   "id": "21d958c9",
   "metadata": {},
   "outputs": [],
   "source": [
    "R = load_npz('R_train.npz')"
   ]
  },
  {
   "cell_type": "code",
   "execution_count": 4,
   "id": "bda4acea",
   "metadata": {},
   "outputs": [],
   "source": [
    "n_users,n_movies = R.shape"
   ]
  },
  {
   "cell_type": "markdown",
   "id": "b5eec638",
   "metadata": {},
   "source": [
    "### Constructing accuracy function"
   ]
  },
  {
   "cell_type": "code",
   "execution_count": 5,
   "id": "d4accfc0",
   "metadata": {},
   "outputs": [],
   "source": [
    "one_idxs=[]\n",
    "minus_one_idxs=[]\n",
    "hold_out=[]\n",
    "hold_out_minus=[]"
   ]
  },
  {
   "cell_type": "code",
   "execution_count": 6,
   "id": "6080d360",
   "metadata": {},
   "outputs": [],
   "source": [
    "for i in range(n_users):\n",
    "    one_idxs.append(np.where(R[[i],:].toarray()[0] == 1)[0])\n",
    "    minus_one_idxs.append(np.where(R[[i],:].toarray()[0] == -1)[0])\n",
    "    hold_out.append(df_val.query(f\"userId=={i} & rating==1\").movieId.values)\n",
    "    hold_out_minus.append(df_val.query(f\"userId=={i} & rating==-1\").movieId.values)"
   ]
  },
  {
   "cell_type": "code",
   "execution_count": 7,
   "id": "e6d86e6c",
   "metadata": {},
   "outputs": [],
   "source": [
    "def accuracy_func(model,k=10):\n",
    "    B = model.linear.weight.detach().to('cpu').numpy()\n",
    "    x = np.float32(R.toarray())\n",
    "    S = np.matmul(x,B)\n",
    "    accuracy = []\n",
    "    for i in range(n_users):\n",
    "        output = S[i]\n",
    "        np.put(output,one_idxs[i],-np.inf)\n",
    "        np.put(output,minus_one_idxs[i],-np.inf)\n",
    "        c = len(np.intersect1d(np.argsort(output)[::-1][:k],hold_out[i]))\n",
    "        nc = len(np.intersect1d(np.argsort(output)[::-1][:k],hold_out_minus[i]))\n",
    "#         acc = np.max([0,(c-nc)/(np.min([k,len(hold_out[i])+1]))]) ## Recal@K\n",
    "        acc = np.max([0,(c-nc)/k]) ## HR@K\n",
    "        accuracy.append(acc)\n",
    "    return np.mean(accuracy)"
   ]
  },
  {
   "cell_type": "markdown",
   "id": "dc21e2ac",
   "metadata": {},
   "source": [
    "### Preparing dataset for pytorch model"
   ]
  },
  {
   "cell_type": "code",
   "execution_count": 8,
   "id": "aec4f5ec",
   "metadata": {},
   "outputs": [],
   "source": [
    "class MovieDataset(Dataset):\n",
    "    def __init__(self,utility_matrix):\n",
    "        self.utility  = utility_matrix\n",
    "        \n",
    "    def __len__(self):\n",
    "        return self.utility.shape[0]\n",
    "    def __getitem__(self,idx):\n",
    "        \n",
    "        user_vector = self.utility[[idx],:].toarray()[0]\n",
    "        user_vector = torch.tensor(user_vector,dtype=torch.float32)\n",
    "        \n",
    "        return user_vector"
   ]
  },
  {
   "cell_type": "code",
   "execution_count": 9,
   "id": "0b5ec33b",
   "metadata": {},
   "outputs": [],
   "source": [
    "train_dataset = MovieDataset(R)"
   ]
  },
  {
   "cell_type": "code",
   "execution_count": 10,
   "id": "a034efeb",
   "metadata": {},
   "outputs": [],
   "source": [
    "BATCH_SIZE = 512\n",
    "train_loader= DataLoader(dataset=train_dataset,\n",
    "                         batch_size=BATCH_SIZE,\n",
    "                         shuffle=True,\n",
    "                         )"
   ]
  },
  {
   "cell_type": "markdown",
   "id": "15805ce2",
   "metadata": {},
   "source": [
    "### Pytorch model"
   ]
  },
  {
   "cell_type": "code",
   "execution_count": 11,
   "id": "7efafbcf",
   "metadata": {},
   "outputs": [],
   "source": [
    "class EASE(nn.Module):\n",
    "    def __init__(self, input_dim):\n",
    "        super().__init__()\n",
    "                              \n",
    "        self.linear = nn.Linear(input_dim,input_dim,bias=False)\n",
    "        nn.init.xavier_normal_(self.linear.weight)\n",
    "        \n",
    "        self.linear.weight.detach().fill_diagonal_(0) \n",
    "        \n",
    "        \n",
    "    def forward(self,x):\n",
    "        x_rec = self.linear(x)\n",
    "        \n",
    "        return x_rec"
   ]
  },
  {
   "cell_type": "code",
   "execution_count": 12,
   "id": "501fc104",
   "metadata": {},
   "outputs": [],
   "source": [
    "device = torch.device('cuda' if torch.cuda.is_available() else 'cpu')"
   ]
  },
  {
   "cell_type": "code",
   "execution_count": 13,
   "id": "c36c308f",
   "metadata": {},
   "outputs": [],
   "source": [
    "model = EASE(n_movies).to(device)"
   ]
  },
  {
   "cell_type": "code",
   "execution_count": 14,
   "id": "071149ed",
   "metadata": {},
   "outputs": [],
   "source": [
    "optimizer = optim.Adam(model.parameters(),lr=0.001,weight_decay=1/5500)"
   ]
  },
  {
   "cell_type": "code",
   "execution_count": 15,
   "id": "37240143",
   "metadata": {},
   "outputs": [],
   "source": [
    "loss_func = nn.MSELoss()"
   ]
  },
  {
   "cell_type": "markdown",
   "id": "8b88861a",
   "metadata": {},
   "source": [
    "### Training Loop"
   ]
  },
  {
   "cell_type": "code",
   "execution_count": 16,
   "id": "2a68005b",
   "metadata": {},
   "outputs": [
    {
     "name": "stdout",
     "output_type": "stream",
     "text": [
      "Epoch 1,train loss: 0.0522, val accuracy:0.0962\n",
      "Epoch 2,train loss: 0.0329, val accuracy:0.1940\n",
      "Epoch 3,train loss: 0.0273, val accuracy:0.2600\n",
      "Epoch 4,train loss: 0.0255, val accuracy:0.2963\n",
      "Epoch 5,train loss: 0.0249, val accuracy:0.3148\n",
      "Epoch 6,train loss: 0.0248, val accuracy:0.3225\n",
      "Epoch 7,train loss: 0.0247, val accuracy:0.3271\n",
      "Epoch 8,train loss: 0.0247, val accuracy:0.3281\n",
      "Epoch 9,train loss: 0.0249, val accuracy:0.3277\n",
      "Epoch 10,train loss: 0.0248, val accuracy:0.3293\n"
     ]
    }
   ],
   "source": [
    "epochs = 10\n",
    "for epoch in range(epochs):\n",
    "    model.train()\n",
    "    train_losses = []\n",
    "    for i,x in enumerate(train_loader):\n",
    "        x = x.to(device).to(torch.float32)\n",
    "        x_rec = model(x)\n",
    "\n",
    "        cost = loss_func(x_rec,x)\n",
    "        optimizer.zero_grad()\n",
    "        ### for zero constrain on diagonal, we simply zero out gradients for diagonal parameters on each gradient update\n",
    "        grads = torch.autograd.grad(cost,list(model.parameters())[0],retain_graph=True) \n",
    "        grads[0].fill_diagonal_(0)\n",
    "        list(model.parameters())[0].backward(gradient=grads[0])\n",
    "        optimizer.step()\n",
    "\n",
    "        train_losses.append(cost.item())\n",
    "    model.eval()\n",
    "    acc = accuracy_func(model)\n",
    "    \n",
    "\n",
    "    print(f\"Epoch {epoch + 1},train loss: {torch.tensor(train_losses).mean():.4f}, val accuracy:{acc:.4f}\")\n"
   ]
  },
  {
   "cell_type": "code",
   "execution_count": null,
   "id": "4b7ca9a9",
   "metadata": {},
   "outputs": [],
   "source": []
  },
  {
   "cell_type": "code",
   "execution_count": null,
   "id": "25366c89",
   "metadata": {},
   "outputs": [],
   "source": []
  }
 ],
 "metadata": {
  "kernelspec": {
   "display_name": "Python 3 (ipykernel)",
   "language": "python",
   "name": "python3"
  },
  "language_info": {
   "codemirror_mode": {
    "name": "ipython",
    "version": 3
   },
   "file_extension": ".py",
   "mimetype": "text/x-python",
   "name": "python",
   "nbconvert_exporter": "python",
   "pygments_lexer": "ipython3",
   "version": "3.9.13"
  }
 },
 "nbformat": 4,
 "nbformat_minor": 5
}
